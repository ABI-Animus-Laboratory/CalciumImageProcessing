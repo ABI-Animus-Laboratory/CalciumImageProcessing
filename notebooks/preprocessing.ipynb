{
 "cells": [
  {
   "cell_type": "code",
   "execution_count": 3,
   "metadata": {},
   "outputs": [],
   "source": [
    "import pandas as pd\n",
    "import matplotlib.pyplot as plt\n",
    "import numpy as np\n"
   ]
  },
  {
   "cell_type": "code",
   "execution_count": 2,
   "metadata": {},
   "outputs": [],
   "source": [
    "original = np.load('/hpc/mzhu843/image-processing/minian/results/experiment5/recording_arrays/original.npy')"
   ]
  },
  {
   "cell_type": "code",
   "execution_count": 19,
   "metadata": {},
   "outputs": [],
   "source": [
    "glow_removed = np.load('/hpc/mzhu843/image-processing/minian/results/experiment5/recording_arrays/glow_removed.npy')"
   ]
  },
  {
   "cell_type": "code",
   "execution_count": null,
   "metadata": {},
   "outputs": [
    {
     "name": "stdout",
     "output_type": "stream",
     "text": [
      "73.63961657801418\n",
      "45.32603759265985\n",
      "0\n",
      "255\n",
      "55.45860483156029\n",
      "30.82898816331916\n",
      "0\n",
      "205\n"
     ]
    }
   ],
   "source": [
    "original_max_proj = np.max(original, axis=0)\n",
    "print(np.mean(original_max_proj))\n",
    "print(np.std(original_max_proj))\n",
    "print(np.min(original_max_proj))\n",
    "print(np.max(original_max_proj))\n",
    "glow_removed_max_proj = np.max(glow_removed, axis=0)\n",
    "print(np.mean(glow_removed_max_proj))\n",
    "print(np.std(glow_removed_max_proj))\n",
    "print(np.min(glow_removed_max_proj))\n",
    "print(np.max(glow_removed_max_proj))\n",
    "\n",
    "intensities = original_max_proj.flatten()\n",
    "\n",
    "# Define bin edges\n",
    "bin_edges = np.arange(0, 270, 10)  # Range from 0 to 75 with bin width of 5\n",
    "\n",
    "# Plot histogram\n",
    "fig, (ax1, ax2) = plt.subplots(2, 1)\n",
    "\n",
    "ax1.hist(intensities, bins=bin_edges, color='teal', edgecolor='black')\n",
    "ax1.set_ylim(0, 90000)\n",
    "\n",
    "\n",
    "# Set plot labels and title'\n",
    "ax2.set_xlabel('Intensity')\n",
    "ax1.set_ylabel('Frequency')\n",
    "ax1.set_title('Pixel Intensities Before Glow Removal')\n",
    "\n",
    "intensities = glow_removed_max_proj.flatten()\n",
    "# Define bin edges\n",
    "bin_edges = np.arange(0, 270, 10)  # Range from 0 to 75 with bin width of 5\n",
    "\n",
    "ax2.hist(intensities, bins=bin_edges, color='teal', edgecolor='black')\n",
    "ax2.set_ylim(0, 90000)\n",
    "\n",
    "# Set plot labels and title\n",
    "ax2.set_xlabel('Intensity')\n",
    "ax2.set_ylabel('Frequency')\n",
    "ax2.set_title('Pixel Intensities After Glow Removal')\n",
    "\n",
    "plt.subplots_adjust(hspace=0.4)\n",
    "\n",
    "# # Display the plot\n",
    "plt.savefig('/hpc/mzhu843/image-processing/minian/visualisations/experiment5/glow removal/intensities.png')\n",
    "plt.close()"
   ]
  },
  {
   "cell_type": "code",
   "execution_count": 4,
   "metadata": {},
   "outputs": [],
   "source": [
    "denoise = np.load('/hpc/mzhu843/image-processing/minian/results/experiment5/recording_arrays/denoised.npy')"
   ]
  },
  {
   "cell_type": "code",
   "execution_count": 31,
   "metadata": {},
   "outputs": [
    {
     "name": "stdout",
     "output_type": "stream",
     "text": [
      "[(246, 109), (240, 196), (483, 129), (398, 86), (154, 142), (275, 229), (406, 199), (7, 305), (244, 203), (502, 45)]\n"
     ]
    }
   ],
   "source": [
    "subsets = 10\n",
    "num_final_subsets = subsets\n",
    "indices = []\n",
    "\n",
    "z, y, x = denoise.shape\n",
    "x_size = x // 4\n",
    "y_size = y // 4\n",
    "\n",
    "for i in range(subsets):\n",
    "    indices.append(((np.random.randint(0, x - x_size), np.random.randint(0, y - y_size))))"
   ]
  },
  {
   "cell_type": "code",
   "execution_count": 32,
   "metadata": {},
   "outputs": [
    {
     "name": "stdout",
     "output_type": "stream",
     "text": [
      "27.71104960376647\n",
      "10\n"
     ]
    }
   ],
   "source": [
    "\n",
    "total_snr = 0\n",
    "\n",
    "for start_x, start_y in indices:\n",
    "    random_slice = denoise[:, start_y:start_y + y_size, start_x:start_x + x_size]\n",
    "    slice_projection = np.max(random_slice, axis=0)\n",
    "\n",
    "    max_value = np.max(slice_projection)\n",
    "    max_row, max_col = np.where(slice_projection == max_value)[0][0], np.where(slice_projection == max_value)[1][0]\n",
    "\n",
    "    cell_width = 15\n",
    "\n",
    "    slice_shape = random_slice.shape\n",
    "\n",
    "\n",
    "    start_row = max(max_row - cell_width, 0)\n",
    "    end_row = min(max_row + cell_width + 1, slice_shape[1])\n",
    "    start_col = max(max_col - cell_width, 0)\n",
    "    end_col = min(max_col + cell_width + 1, slice_shape[2])\n",
    "\n",
    "    surrounding_region = random_slice[:, start_row:end_row, start_col:end_col]\n",
    "\n",
    "    for frame in surrounding_region:\n",
    "\n",
    "        std = np.std(frame)\n",
    "        mean = np.mean(frame)\n",
    "        if std == 0:\n",
    "            num_final_subsets -= 1\n",
    "            break\n",
    "        total_snr += (mean / std) / len(surrounding_region)\n",
    "\n",
    "print(total_snr / num_final_subsets)\n",
    "print(num_final_subsets)"
   ]
  },
  {
   "cell_type": "code",
   "execution_count": 33,
   "metadata": {},
   "outputs": [
    {
     "name": "stdout",
     "output_type": "stream",
     "text": [
      "15.425725857624721\n",
      "10\n"
     ]
    }
   ],
   "source": [
    "total_snr = 0\n",
    "\n",
    "for start_x, start_y in indices:\n",
    "    random_slice = glow_removed[:, start_y:start_y + y_size, start_x:start_x + x_size]\n",
    "    slice_projection = np.max(random_slice, axis=0)\n",
    "\n",
    "    max_value = np.max(slice_projection)\n",
    "    max_row, max_col = np.where(slice_projection == max_value)[0][0], np.where(slice_projection == max_value)[1][0]\n",
    "\n",
    "    cell_width = 15\n",
    "\n",
    "    slice_shape = random_slice.shape\n",
    "\n",
    "\n",
    "    start_row = max(max_row - cell_width, 0)\n",
    "    end_row = min(max_row + cell_width + 1, slice_shape[1])\n",
    "    start_col = max(max_col - cell_width, 0)\n",
    "    end_col = min(max_col + cell_width + 1, slice_shape[2])\n",
    "\n",
    "    surrounding_region = random_slice[:, start_row:end_row, start_col:end_col]\n",
    "\n",
    "    \n",
    "    for frame in surrounding_region:\n",
    "\n",
    "        std = np.std(frame)\n",
    "        mean = np.mean(frame)\n",
    "        if std == 0:\n",
    "            num_final_subsets -= 1\n",
    "            break\n",
    "        total_snr += (mean / std) / len(surrounding_region)\n",
    "\n",
    "print(total_snr / num_final_subsets)\n",
    "print(num_final_subsets)"
   ]
  },
  {
   "cell_type": "code",
   "execution_count": 5,
   "metadata": {},
   "outputs": [],
   "source": [
    "background_removed = np.load('/hpc/mzhu843/image-processing/minian/results/experiment5/recording_arrays/background_removed.npy')"
   ]
  },
  {
   "cell_type": "code",
   "execution_count": 7,
   "metadata": {},
   "outputs": [],
   "source": [
    "intensity_ranges_dict = {}\n",
    "\n",
    "for x in range(np.size(denoise, axis=2)):\n",
    "    for y in range(np.size(denoise, axis=1)):\n",
    "        intensity_range = np.max(denoise[:, y, x]) - np.min(denoise[:, y, x])\n",
    "        if intensity_range not in intensity_ranges_dict.keys():\n",
    "            intensity_ranges_dict[intensity_range] = 1\n",
    "        else:\n",
    "            intensity_ranges_dict[intensity_range] += 1        "
   ]
  },
  {
   "cell_type": "code",
   "execution_count": 8,
   "metadata": {},
   "outputs": [],
   "source": [
    "keys = list(intensity_ranges_dict.keys())\n",
    "values = list(intensity_ranges_dict.values())"
   ]
  },
  {
   "cell_type": "code",
   "execution_count": 9,
   "metadata": {},
   "outputs": [],
   "source": [
    "intensity_ranges_dict_background_removed = {}\n",
    "\n",
    "for x in range(np.size(background_removed, axis=2)):\n",
    "    for y in range(np.size(background_removed, axis=1)):\n",
    "        intensity_range = np.max(background_removed[:, y, x]) - np.min(background_removed[:, y, x])\n",
    "        if intensity_range not in intensity_ranges_dict_background_removed.keys():\n",
    "            intensity_ranges_dict_background_removed[intensity_range] = 1\n",
    "        else:\n",
    "            intensity_ranges_dict_background_removed[intensity_range] += 1        "
   ]
  },
  {
   "cell_type": "code",
   "execution_count": 10,
   "metadata": {},
   "outputs": [],
   "source": [
    "keys_background = list(intensity_ranges_dict_background_removed.keys())\n",
    "values_background = list(intensity_ranges_dict_background_removed.values())"
   ]
  },
  {
   "cell_type": "code",
   "execution_count": 21,
   "metadata": {},
   "outputs": [
    {
     "data": {
      "image/png": "[encoded data removed]",
      "text/plain": [
       "<Figure size 1200x500 with 2 Axes>"
      ]
     },
     "metadata": {},
     "output_type": "display_data"
    }
   ],
   "source": [
    "fig, axs = plt.subplots(2, 1, figsize=(12, 5))\n",
    "axs[0].bar(keys, values)\n",
    "axs[1].bar(keys_background, values_background)\n",
    "fig.suptitle('Comparison of Intensity Ranges Before and After Background Removal')\n",
    "fig.text(0.5, 0.04, 'Intensity Range', ha='center', va='center')\n",
    "fig.text(0.06, 0.5, 'Pixel Count', ha='center', va='center', rotation='vertical')\n",
    "plt.savefig('/hpc/mzhu843/image-processing/minian/visualisations/experiment5/output')\n",
    "\n"
   ]
  }
 ],
 "metadata": {
  "kernelspec": {
   "display_name": "minian",
   "language": "python",
   "name": "python3"
  },
  "language_info": {
   "codemirror_mode": {
    "name": "ipython",
    "version": 3
   },
   "file_extension": ".py",
   "mimetype": "text/x-python",
   "name": "python",
   "nbconvert_exporter": "python",
   "pygments_lexer": "ipython3",
   "version": "3.11.4"
  }
 },
 "nbformat": 4,
 "nbformat_minor": 2
}
